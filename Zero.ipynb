{
 "cells": [
  {
   "cell_type": "code",
   "execution_count": 2,
   "id": "85b22ea6-eeec-46da-8a77-86a0a7ef4a88",
   "metadata": {},
   "outputs": [
    {
     "name": "stderr",
     "output_type": "stream",
     "text": [
      "Cannot initialize model with low cpu memory usage because `accelerate` was not found in the environment. Defaulting to `low_cpu_mem_usage=False`. It is strongly recommended to install `accelerate` for faster and less memory-intense model loading. You can do so with: \n",
      "```\n",
      "pip install accelerate\n",
      "```\n",
      ".\n",
      "text_encoder\\model.safetensors not found\n",
      "Keyword arguments {'use_auth_token': 'hf_GusJkDCVmqGLNdrYQKecDdWYgngXbUtt'} are not expected by StableDiffusionPipeline and will be ignored.\n"
     ]
    },
    {
     "data": {
      "application/vnd.jupyter.widget-view+json": {
       "model_id": "fcbc9f7cc8904ece9f19a4e335605117",
       "version_major": 2,
       "version_minor": 0
      },
      "text/plain": [
       "Loading pipeline components...:   0%|          | 0/7 [00:00<?, ?it/s]"
      ]
     },
     "metadata": {},
     "output_type": "display_data"
    },
    {
     "name": "stderr",
     "output_type": "stream",
     "text": [
      "An error occurred while trying to fetch C:\\Users\\ASUS\\.cache\\huggingface\\hub\\models--CompVis--stable-diffusion-v1-4\\snapshots\\2880f2ca379f41b0226444936bb7a6766a227587\\unet: Error no file named diffusion_pytorch_model.safetensors found in directory C:\\Users\\ASUS\\.cache\\huggingface\\hub\\models--CompVis--stable-diffusion-v1-4\\snapshots\\2880f2ca379f41b0226444936bb7a6766a227587\\unet.\n",
      "Defaulting to unsafe serialization. Pass `allow_pickle=False` to raise an error instead.\n",
      "An error occurred while trying to fetch C:\\Users\\ASUS\\.cache\\huggingface\\hub\\models--CompVis--stable-diffusion-v1-4\\snapshots\\2880f2ca379f41b0226444936bb7a6766a227587\\vae: Error no file named diffusion_pytorch_model.safetensors found in directory C:\\Users\\ASUS\\.cache\\huggingface\\hub\\models--CompVis--stable-diffusion-v1-4\\snapshots\\2880f2ca379f41b0226444936bb7a6766a227587\\vae.\n",
      "Defaulting to unsafe serialization. Pass `allow_pickle=False` to raise an error instead.\n"
     ]
    },
    {
     "name": "stdout",
     "output_type": "stream",
     "text": [
      "Prompt: boy watching sunset on beach\n"
     ]
    },
    {
     "data": {
      "application/vnd.jupyter.widget-view+json": {
       "model_id": "349727d3b34f49a99984ff7bb0eea570",
       "version_major": 2,
       "version_minor": 0
      },
      "text/plain": [
       "  0%|          | 0/50 [00:00<?, ?it/s]"
      ]
     },
     "metadata": {},
     "output_type": "display_data"
    },
    {
     "name": "stdout",
     "output_type": "stream",
     "text": [
      "Image generated successfully\n",
      "Image converted and saved successfully\n",
      "Image displayed successfully\n",
      "Prompt: boy on a bridge\n"
     ]
    },
    {
     "data": {
      "application/vnd.jupyter.widget-view+json": {
       "model_id": "b421464004b9482c9fdcba3f9da7d435",
       "version_major": 2,
       "version_minor": 0
      },
      "text/plain": [
       "  0%|          | 0/50 [00:00<?, ?it/s]"
      ]
     },
     "metadata": {},
     "output_type": "display_data"
    },
    {
     "name": "stdout",
     "output_type": "stream",
     "text": [
      "Image generated successfully\n",
      "Image converted and saved successfully\n",
      "Image displayed successfully\n"
     ]
    }
   ],
   "source": [
    "import tkinter as tk\n",
    "from tkinter import ttk\n",
    "import customtkinter as ctk\n",
    "from PIL import Image, ImageTk\n",
    "import torch\n",
    "from torch import autocast\n",
    "from diffusers import StableDiffusionPipeline\n",
    "import threading\n",
    "import time\n",
    "\n",
    "app = tk.Tk()\n",
    "app.geometry(\"532x700\")\n",
    "app.title(\"ZeRo\")\n",
    "ctk.set_appearance_mode(\"dark\")\n",
    "\n",
    "prompt = ctk.CTkEntry(app, height=40, width=512, font=(\"Arial\", 20), text_color=\"black\", fg_color=\"white\")\n",
    "prompt.place(x=10, y=10)\n",
    "\n",
    "lmain = ctk.CTkLabel(app, height=512, width=512)\n",
    "lmain.place(x=10, y=110)\n",
    "\n",
    "progress = ttk.Progressbar(app, orient=tk.HORIZONTAL, length=512, mode='determinate')\n",
    "progress.place(x=15, y=630)\n",
    "\n",
    "modelid = \"CompVis/stable-diffusion-v1-4\"\n",
    "device = \"cuda\"\n",
    "pipe = StableDiffusionPipeline.from_pretrained(modelid, revision=\"fp16\",\n",
    "torch_dtype=torch.float16, use_auth_token='hf_GusJkDCVmqGLNdrYQKecDdWYgngXbUtt')\n",
    "pipe.to(device)\n",
    "\n",
    "def generate():\n",
    "    prompt_text = prompt.get()\n",
    "    print(f\"Prompt: {prompt_text}\") \n",
    "\n",
    "    generation_complete = threading.Event()\n",
    "\n",
    "    def update_progress_bar():\n",
    "        step_count = 100  \n",
    "        progress_step = 100 / step_count\n",
    "\n",
    "        for _ in range(step_count):\n",
    "            if generation_complete.is_set():\n",
    "                break\n",
    "            progress.step(progress_step)\n",
    "            app.update_idletasks()\n",
    "            time.sleep(0.1)\n",
    "\n",
    "        progress['value'] = 100\n",
    "        app.update_idletasks()\n",
    "\n",
    "    def run_generation():\n",
    "        with autocast(device):\n",
    "            result = pipe(prompt_text, guidance_scale=8.5)\n",
    "            image = result.images[0]\n",
    "\n",
    "        print(\"Image generated successfully\") \n",
    "\n",
    "       \n",
    "        image = image.convert(\"RGB\")\n",
    "        image.save('generatedimage.png')\n",
    "        img = ImageTk.PhotoImage(image)\n",
    "\n",
    "        print(\"Image converted and saved successfully\")  \n",
    "\n",
    "        \n",
    "        lmain.img = img\n",
    "        lmain.configure(image=img)\n",
    "        print(\"Image displayed successfully\") \n",
    "\n",
    "        generation_complete.set()\n",
    "\n",
    "    threading.Thread(target=update_progress_bar).start()\n",
    "    threading.Thread(target=run_generation).start()\n",
    "\n",
    "trigger = ctk.CTkButton(app, height=40, width=120, font=(\"Arial\", 20), text_color=\"white\", fg_color=\"green\", command=generate)\n",
    "trigger.configure(text=\"Generate\")\n",
    "trigger.place(x=206, y=60)\n",
    "\n",
    "app.mainloop()\n",
    "\n"
   ]
  },
  {
   "cell_type": "code",
   "execution_count": null,
   "id": "a85ef13f-2f6f-41d9-b7c8-e293daa2e97c",
   "metadata": {},
   "outputs": [],
   "source": []
  },
  {
   "cell_type": "code",
   "execution_count": null,
   "id": "495c6174-c7cb-413d-9364-533021dd5214",
   "metadata": {},
   "outputs": [],
   "source": []
  }
 ],
 "metadata": {
  "kernelspec": {
   "display_name": "Python 3 (ipykernel)",
   "language": "python",
   "name": "python3"
  },
  "language_info": {
   "codemirror_mode": {
    "name": "ipython",
    "version": 3
   },
   "file_extension": ".py",
   "mimetype": "text/x-python",
   "name": "python",
   "nbconvert_exporter": "python",
   "pygments_lexer": "ipython3",
   "version": "3.10.9"
  }
 },
 "nbformat": 4,
 "nbformat_minor": 5
}
